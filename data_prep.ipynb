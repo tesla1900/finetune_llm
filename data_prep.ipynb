{
 "cells": [
  {
   "cell_type": "code",
   "execution_count": 1,
   "id": "81e6d5fe-6788-48f1-8fbc-0c4fb72e9cde",
   "metadata": {},
   "outputs": [],
   "source": [
    "import pandas as pd\n",
    "import json\n",
    "import numpy as np"
   ]
  },
  {
   "cell_type": "code",
   "execution_count": 4,
   "id": "ac84c10b-790c-4025-b0e8-bf8805e7db78",
   "metadata": {},
   "outputs": [
    {
     "name": "stdout",
     "output_type": "stream",
     "text": [
      "Data successfully split\n"
     ]
    }
   ],
   "source": [
    "# define the example template\n",
    "def example_template(prompt, response):\n",
    "    return f'''<s>[INST] \\n{prompt} \\n[/INST]\\n''' + response + \"</s>\"\n",
    "\n",
    "# load the .parquet file\n",
    "input_file = 'data/synthetic_text_to_sql_train.snappy.parquet' \n",
    "df = pd.read_parquet(input_file)\n",
    "\n",
    "# open the output .jsonl file for writing\n",
    "output_file = 'data/train.jsonl'  \n",
    "\n",
    "# prepare the data in JSONL format\n",
    "jsonl_data = []\n",
    "for index, row in df.iterrows():\n",
    "    prompt = row['sql_prompt']\n",
    "    response = f\"{row['sql']}\\n{row['sql_explanation']}\"\n",
    "    jsonl_content = example_template(prompt, response)\n",
    "    jsonl_data.append(json.dumps({\"text\": jsonl_content}) + '\\n')\n",
    "\n",
    "# Shuffle the data before splitting\n",
    "np.random.shuffle(jsonl_data)\n",
    "\n",
    "# Split the data into 60%, 20%, 20%\n",
    "total_length = len(jsonl_data)\n",
    "train_split = int(0.6 * total_length)\n",
    "valid_split = int(0.8 * total_length)\n",
    "\n",
    "train_data = jsonl_data[:train_split]\n",
    "valid_data = jsonl_data[train_split:valid_split]\n",
    "test_data = jsonl_data[valid_split:]\n",
    "\n",
    "# Write the train, valid, and test data to separate files\n",
    "with open('train.jsonl', 'w') as train_file:\n",
    "    train_file.writelines(train_data)\n",
    "\n",
    "with open('valid.jsonl', 'w') as valid_file:\n",
    "    valid_file.writelines(valid_data)\n",
    "\n",
    "with open('test.jsonl', 'w') as test_file:\n",
    "    test_file.writelines(test_data)\n",
    "\n",
    "print(\"Data successfully split\")"
   ]
  },
  {
   "cell_type": "markdown",
   "id": "0a1e12c1-33ea-47fe-9d48-9184c01c3540",
   "metadata": {},
   "source": [
    "To reduce the dataset size, we will only include 1000 rows in total"
   ]
  },
  {
   "cell_type": "code",
   "execution_count": 3,
   "id": "06352ef6-4f2f-419d-ae66-8ea883cc5a7e",
   "metadata": {},
   "outputs": [
    {
     "name": "stdout",
     "output_type": "stream",
     "text": [
      "Data successfully split\n"
     ]
    }
   ],
   "source": [
    "# define the example template\n",
    "def example_template(prompt, response):\n",
    "    return f'''<s>[INST] \\n{prompt} \\n[/INST]\\n''' + response + \"</s>\"\n",
    "\n",
    "# load the .parquet file\n",
    "input_file = 'data/synthetic_text_to_sql_train.snappy.parquet' \n",
    "df = pd.read_parquet(input_file)  \n",
    "\n",
    "# prepare the data in JSONL format\n",
    "jsonl_data = []\n",
    "for index, row in df.iterrows():\n",
    "    prompt = f\"{row['sql_prompt']}\\n{row['sql_context']}\"\n",
    "    response = f\"{row['sql']}\\n{row['sql_explanation']}\"\n",
    "    jsonl_content = example_template(prompt, response)\n",
    "    jsonl_data.append(json.dumps({\"text\": jsonl_content}) + '\\n')\n",
    "\n",
    "# Shuffle the data \n",
    "np.random.shuffle(jsonl_data)\n",
    "\n",
    "train_data = jsonl_data[:600]\n",
    "valid_data = jsonl_data[600:800]\n",
    "test_data = jsonl_data[800:1000]\n",
    "\n",
    "# Write the train, valid, and test data to separate files\n",
    "with open('train.jsonl', 'w') as train_file:\n",
    "    train_file.writelines(train_data)\n",
    "\n",
    "with open('valid.jsonl', 'w') as valid_file:\n",
    "    valid_file.writelines(valid_data)\n",
    "\n",
    "with open('test.jsonl', 'w') as test_file:\n",
    "    test_file.writelines(test_data)\n",
    "\n",
    "print(\"Data successfully split\")"
   ]
  },
  {
   "cell_type": "code",
   "execution_count": null,
   "id": "63dcf401-4340-4d44-8623-97bde69a74ae",
   "metadata": {},
   "outputs": [],
   "source": []
  }
 ],
 "metadata": {
  "kernelspec": {
   "display_name": "Python 3 (ipykernel)",
   "language": "python",
   "name": "python3"
  },
  "language_info": {
   "codemirror_mode": {
    "name": "ipython",
    "version": 3
   },
   "file_extension": ".py",
   "mimetype": "text/x-python",
   "name": "python",
   "nbconvert_exporter": "python",
   "pygments_lexer": "ipython3",
   "version": "3.11.10"
  }
 },
 "nbformat": 4,
 "nbformat_minor": 5
}
