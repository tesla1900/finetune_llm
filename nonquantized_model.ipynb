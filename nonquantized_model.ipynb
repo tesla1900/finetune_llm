{
 "cells": [
  {
   "cell_type": "code",
   "execution_count": 1,
   "id": "f012f4d6-d4e4-47df-8756-e7edcefc9009",
   "metadata": {},
   "outputs": [],
   "source": [
    "from mlx_lm import load, generate"
   ]
  },
  {
   "cell_type": "markdown",
   "id": "513aed32-a72c-4d23-acd1-2f58ba8a4344",
   "metadata": {},
   "source": [
    "# Non-quantized model\n",
    "\n",
    "Testing the non-quantized model for lols"
   ]
  },
  {
   "cell_type": "code",
   "execution_count": 4,
   "id": "30c39bdd-3e66-49b3-a179-73c24c7da1a0",
   "metadata": {},
   "outputs": [
    {
     "data": {
      "application/vnd.jupyter.widget-view+json": {
       "model_id": "5689aa613d144e089a80cea7ee1f8d98",
       "version_major": 2,
       "version_minor": 0
      },
      "text/plain": [
       "Fetching 12 files:   0%|          | 0/12 [00:00<?, ?it/s]"
      ]
     },
     "metadata": {},
     "output_type": "display_data"
    },
    {
     "name": "stdout",
     "output_type": "stream",
     "text": [
      "==========\n",
      "Prompt: <s>[INST] What is SQL[/INST]\n",
      "SQL (Structured Query Language) is a standard programming language for managing and manipulating relational databases. It was first introduced by IBM in the 1970s and has since become a widely-used language for database management systems (DBMS) across various industries.\n",
      "\n",
      "SQL is used to create, modify, and query databases, as well as to manage the data within them. It allows users to perform a variety of tasks, such as:\n",
      "\n",
      "1. Creat\n",
      "==========\n",
      "Prompt: 7 tokens, 2.913 tokens-per-sec\n",
      "Generation: 100 tokens, 11.048 tokens-per-sec\n",
      "Peak memory: 27.114 GB\n"
     ]
    }
   ],
   "source": [
    "model, tokenizer = load(\"mistralai/Mistral-7B-Instruct-v0.3\")\n",
    "\n",
    "prompt = \"What is SQL\"\n",
    "\n",
    "messages = [{\"role\": \"user\", \"content\": prompt}]\n",
    "prompt = tokenizer.apply_chat_template(\n",
    "    messages, tokenize=False, add_generation_prompt=True\n",
    ")\n",
    "\n",
    "response = generate(model, tokenizer, prompt=prompt, verbose=True)"
   ]
  }
 ],
 "metadata": {
  "kernelspec": {
   "display_name": "Python 3 (ipykernel)",
   "language": "python",
   "name": "python3"
  },
  "language_info": {
   "codemirror_mode": {
    "name": "ipython",
    "version": 3
   },
   "file_extension": ".py",
   "mimetype": "text/x-python",
   "name": "python",
   "nbconvert_exporter": "python",
   "pygments_lexer": "ipython3",
   "version": "3.11.10"
  }
 },
 "nbformat": 4,
 "nbformat_minor": 5
}
