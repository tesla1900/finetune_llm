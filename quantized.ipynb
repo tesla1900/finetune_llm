{
 "cells": [
  {
   "cell_type": "markdown",
   "id": "9c60ec4b-f7f2-4f22-b6ba-8cfd739b6b50",
   "metadata": {},
   "source": [
    "# Quantized model"
   ]
  },
  {
   "cell_type": "code",
   "execution_count": 39,
   "id": "90f38bdc-58e5-4b8d-ae35-9c05ab8a6927",
   "metadata": {},
   "outputs": [],
   "source": [
    "from mlx_lm import load, generate \n",
    "import os\n",
    "import subprocess"
   ]
  },
  {
   "cell_type": "code",
   "execution_count": 42,
   "id": "0556dfd1-bd36-4077-82c2-66e1d51bc01f",
   "metadata": {},
   "outputs": [],
   "source": [
    "def generate_response(model_path, prompt, max_tokens=500) -> None:\n",
    "    # load the model and tokenizer\n",
    "    model, tokenizer = load(model_path)\n",
    "    \n",
    "    # create a message dictionary for the chat\n",
    "    messages = [{\"role\": \"user\", \"content\": prompt}]\n",
    "    \n",
    "    # apply the chat template using the tokenizer\n",
    "    formatted_prompt = tokenizer.apply_chat_template(\n",
    "        messages, tokenize=False, add_generation_prompt=True\n",
    "    )\n",
    "    \n",
    "    # generate the response from the model\n",
    "    response = generate(\n",
    "        model, tokenizer, \n",
    "        prompt=formatted_prompt, \n",
    "        max_tokens=max_tokens, \n",
    "        verbose=True\n",
    "    )"
   ]
  },
  {
   "cell_type": "code",
   "execution_count": 43,
   "id": "590cd0c5-35fe-4218-ac91-95751288425c",
   "metadata": {},
   "outputs": [
    {
     "name": "stdout",
     "output_type": "stream",
     "text": [
      "==========\n",
      "Prompt: <s>[INST] What is SQL[/INST]\n",
      "SQL (Structured Query Language) is a programming language used to manage and manipulate relational databases. It was first introduced by IBM in the 1970s and has since become a standard for database management systems. SQL is used to create, modify, and query databases, as well as to define and manipulate the logical structure of a database.\n",
      "\n",
      "SQL is a declarative language, meaning that it is used to specify what data is needed, rather than how to retrieve it. It is composed of several types of statements, including:\n",
      "\n",
      "1. Data Definition Language (DDL) statements: These are used to create, alter, and drop database objects such as tables, views, and indexes.\n",
      "2. Data Manipulation Language (DML) statements: These are used to insert, update, delete, and select data from tables.\n",
      "3. Data Control Language (DCL) statements: These are used to control access to the database, such as granting or revoking privileges.\n",
      "\n",
      "SQL is an essential tool for developers, database administrators, and data analysts who work with databases on a daily basis. It is supported by most relational database management systems, including MySQL, Oracle, PostgreSQL, and Microsoft SQL Server.\n",
      "==========\n",
      "Prompt: 7 tokens, 39.945 tokens-per-sec\n",
      "Generation: 266 tokens, 33.611 tokens-per-sec\n",
      "Peak memory: 7.664 GB\n"
     ]
    }
   ],
   "source": [
    "mlx_model = \"/Users/tesla/side/finetune_llm/mlx_model\"\n",
    "prompt = \"What is SQL\"\n",
    "max_tokens=500\n",
    "\n",
    "generate_response(mlx_model, prompt, max_tokens)"
   ]
  },
  {
   "cell_type": "markdown",
   "id": "102b214b-8f69-425f-ad8e-cf5410754865",
   "metadata": {},
   "source": [
    "## Finetuned with QLoRA"
   ]
  },
  {
   "cell_type": "code",
   "execution_count": 8,
   "id": "17cd5468-4d4a-4bc6-91c9-4aeef2e0a25b",
   "metadata": {},
   "outputs": [],
   "source": [
    "def run_command_with_live_output(command: list[str]) -> None:\n",
    "    \"\"\"\n",
    "    Courtesy of ChatGPT:\n",
    "    Runs a command and prints its output line by line as it executes.\n",
    "\n",
    "    Args:\n",
    "        command (List[str]): The command and its arguments to be executed.\n",
    "\n",
    "    Returns:\n",
    "        None\n",
    "    \"\"\"\n",
    "    process = subprocess.Popen(command, stdout=subprocess.PIPE, stderr=subprocess.PIPE, text=True)\n",
    "\n",
    "    # print the output line by line\n",
    "    while True:\n",
    "        output = process.stdout.readline()\n",
    "        if output == '' and process.poll() is not None:\n",
    "            break\n",
    "        if output:\n",
    "            print(output.strip())\n",
    "        \n",
    "    # print the error output, if any\n",
    "    err_output = process.stderr.read()\n",
    "    if err_output:\n",
    "        print(err_output)\n"
   ]
  },
  {
   "cell_type": "markdown",
   "id": "4bc94e22-29f5-46f7-931a-43f2a3dd8ed8",
   "metadata": {},
   "source": [
    "## Prompt 1 "
   ]
  },
  {
   "cell_type": "code",
   "execution_count": 44,
   "id": "51e49e6a-d264-4ef5-a084-7a882a6d8fdc",
   "metadata": {},
   "outputs": [],
   "source": [
    "fused_model = \"lora_fused_model\"\n",
    "adapter_path = \"adapters.npz\" \n",
    "max_tokens_str = str(max_tokens)\n",
    "\n",
    "prompt = \"\"\"Retrieve the names and species of all animals that weigh more than 500 kg\n",
    "CREATE TABLE animals (id INT, name VARCHAR(20), species VARCHAR(20), weight DECIMAL(5, 2)); \n",
    "INSERT INTO animals (id, name, species, weight) VALUES (1, 'Elephant', 'African', 6000), \n",
    "(2, 'Lion', 'African', 400), (3, 'Hippo', 'African', 3000), (4, 'Tiger', 'Asian', 300), \n",
    "(5, 'Crane', 'African', 100), (6, 'Rhinoceros', 'African', 2000), (7, 'Zebra', 'African', 450), \n",
    "(8, 'Giraffe', 'African', 1200), (9, 'Bear', 'Eurasian', 600), (10, 'Crocodile', 'Nile', 700);\"\"\""
   ]
  },
  {
   "cell_type": "markdown",
   "id": "c2621234-0f14-413b-a06f-584462901b66",
   "metadata": {},
   "source": [
    "### Expected code\n",
    "The correct expected response for the above prompt is the following:\n",
    "```\n",
    "SELECT name, species FROM animals WHERE weight > 500;\n",
    "```"
   ]
  },
  {
   "cell_type": "markdown",
   "id": "4c3b98c1-5270-4c1b-894a-d26548d5d98d",
   "metadata": {},
   "source": [
    "### Adapter file output"
   ]
  },
  {
   "cell_type": "code",
   "execution_count": 48,
   "id": "ca6baab7-c66a-4f2a-bdd1-de91d6640634",
   "metadata": {},
   "outputs": [
    {
     "name": "stderr",
     "output_type": "stream",
     "text": [
      "huggingface/tokenizers: The current process just got forked, after parallelism has already been used. Disabling parallelism to avoid deadlocks...\n",
      "To disable this warning, you can either:\n",
      "\t- Avoid using `tokenizers` before the fork if possible\n",
      "\t- Explicitly set the environment variable TOKENIZERS_PARALLELISM=(true | false)\n"
     ]
    },
    {
     "name": "stdout",
     "output_type": "stream",
     "text": [
      "Loading pretrained model\n",
      "Total parameters 1133.580M\n",
      "Trainable parameters 0.852M\n",
      "Loading datasets\n",
      "Generating\n",
      "Retrieve the names and species of all animals that weigh more than 500 kg\n",
      "CREATE TABLE animals (id INT, name VARCHAR(20), species VARCHAR(20), weight DECIMAL(5, 2));\n",
      "INSERT INTO animals (id, name, species, weight) VALUES (1, 'Elephant', 'African', 6000),\n",
      "(2, 'Lion', 'African', 400), (3, 'Hippo', 'African', 3000), (4, 'Tiger', 'Asian', 300),\n",
      "(5, 'Crane', 'African', 100), (6, 'Rhinoceros', 'African', 2000), (7, 'Zebra', 'African', 450),\n",
      "(8, 'Giraffe', 'African', 1200), (9, 'Bear', 'Eurasian', 600), (10, 'Crocodile', 'Nile', 700);\n",
      "SELECT name, species FROM animals WHERE weight > 500;\n",
      "This query retrieves the names and species of all animals that weigh more than 500 kg. It first creates a table named 'animals' with four columns: id, name, species, and weight. It then inserts data into this table. Finally, it uses the WHERE clause to filter the data and select only the rows where the weight is greater than 500.\n",
      "==========\n"
     ]
    }
   ],
   "source": [
    "# define command\n",
    "command = ['python', 'scripts/lora.py', '--model', mlx_model, '--adapter-file', adapter_path, '--max-tokens', max_tokens_str, '--prompt', prompt]\n",
    "\n",
    "# run command and print results continuously\n",
    "run_command_with_live_output(command)"
   ]
  },
  {
   "cell_type": "markdown",
   "id": "07b84253-0cdd-4b8f-8e53-541c8f91567f",
   "metadata": {},
   "source": [
    "### Mistral-7B-Instruct-v0.3-4bit"
   ]
  },
  {
   "cell_type": "code",
   "execution_count": 49,
   "id": "c9dc3fd1-7bab-4089-b56c-f117106d524c",
   "metadata": {},
   "outputs": [
    {
     "name": "stdout",
     "output_type": "stream",
     "text": [
      "==========\n",
      "Prompt: <s>[INST] Retrieve the names and species of all animals that weigh more than 500 kg\n",
      "CREATE TABLE animals (id INT, name VARCHAR(20), species VARCHAR(20), weight DECIMAL(5, 2)); \n",
      "INSERT INTO animals (id, name, species, weight) VALUES (1, 'Elephant', 'African', 6000), \n",
      "(2, 'Lion', 'African', 400), (3, 'Hippo', 'African', 3000), (4, 'Tiger', 'Asian', 300), \n",
      "(5, 'Crane', 'African', 100), (6, 'Rhinoceros', 'African', 2000), (7, 'Zebra', 'African', 450), \n",
      "(8, 'Giraffe', 'African', 1200), (9, 'Bear', 'Eurasian', 600), (10, 'Crocodile', 'Nile', 700);[/INST]\n",
      "To retrieve the names and species of all animals that weigh more than 500 kg from the provided table, you can use the SQL `SELECT` statement with a `WHERE` clause. Here's the SQL query:\n",
      "\n",
      "```sql\n",
      "SELECT name, species FROM animals WHERE weight > 500;\n",
      "```\n",
      "\n",
      "Executing this query on the given table will return the following results:\n",
      "\n",
      "```\n",
      "name     | species\n",
      "---------|-------\n",
      "Elephant | African\n",
      "Hippo    | African\n",
      "Rhinoceros| African\n",
      "Crane    | African\n",
      "Lion     | African\n",
      "Zebra    | African\n",
      "Rhinoceros| African\n",
      "Bear     | Eurasian\n",
      "Crocodile | Nile\n",
      "```\n",
      "\n",
      "This query selects the `name` and `species` columns from the `animals` table where the `weight` is greater than 500.\n",
      "==========\n",
      "Prompt: 259 tokens, 236.675 tokens-per-sec\n",
      "Generation: 201 tokens, 33.416 tokens-per-sec\n",
      "Peak memory: 7.770 GB\n"
     ]
    }
   ],
   "source": [
    "generate_response(mlx_model, prompt, max_tokens)"
   ]
  },
  {
   "cell_type": "markdown",
   "id": "67532884-4615-4c3b-aa4f-b63b4bc77b61",
   "metadata": {},
   "source": [
    "### Fine-tuned Mistral-7B-Instruct-v0.3-4bit"
   ]
  },
  {
   "cell_type": "code",
   "execution_count": 50,
   "id": "ad90284a-cdbd-4624-b0c0-77178879ac6a",
   "metadata": {},
   "outputs": [
    {
     "name": "stdout",
     "output_type": "stream",
     "text": [
      "==========\n",
      "Prompt: <s>[INST] Retrieve the names and species of all animals that weigh more than 500 kg\n",
      "CREATE TABLE animals (id INT, name VARCHAR(20), species VARCHAR(20), weight DECIMAL(5, 2)); \n",
      "INSERT INTO animals (id, name, species, weight) VALUES (1, 'Elephant', 'African', 6000), \n",
      "(2, 'Lion', 'African', 400), (3, 'Hippo', 'African', 3000), (4, 'Tiger', 'Asian', 300), \n",
      "(5, 'Crane', 'African', 100), (6, 'Rhinoceros', 'African', 2000), (7, 'Zebra', 'African', 450), \n",
      "(8, 'Giraffe', 'African', 1200), (9, 'Bear', 'Eurasian', 600), (10, 'Crocodile', 'Nile', 700);[/INST]\n",
      "\n",
      "SELECT name, species FROM animals WHERE weight > 500;\n",
      "This query retrieves the names and species of all animals that weigh more than 500 kg.\n",
      "==========\n",
      "Prompt: 259 tokens, 238.570 tokens-per-sec\n",
      "Generation: 38 tokens, 33.753 tokens-per-sec\n",
      "Peak memory: 7.776 GB\n"
     ]
    }
   ],
   "source": [
    "generate_response(fused_model, prompt, max_tokens)"
   ]
  },
  {
   "cell_type": "markdown",
   "id": "e3b23cec-8d2f-430c-b65f-b9e8aa1a79c5",
   "metadata": {},
   "source": [
    "### Prompt 2"
   ]
  },
  {
   "cell_type": "code",
   "execution_count": 51,
   "id": "c62e6471-1d14-4034-9dda-3bdee3102dc0",
   "metadata": {},
   "outputs": [],
   "source": [
    "prompt = \"\"\"Count the number of unique users who engaged with virtual tours in 'January'?\n",
    "CREATE TABLE user_activity (user_id INT, activity_date DATE); \n",
    "INSERT INTO user_activity (user_id, activity_date) VALUES (1, '2023-01-01'), (2, '2023-01-05'), \n",
    "(3, '2023-01-07'), (4, '2023-01-10'), (5, '2023-01-12');\"\"\""
   ]
  },
  {
   "cell_type": "markdown",
   "id": "59d1690e-c810-4e2f-af97-361796fc7e91",
   "metadata": {},
   "source": [
    "### Expected code\n",
    "The correct expected response for the above prompt is the following:\n",
    "```\n",
    "SELECT COUNT(DISTINCT user_id) FROM user_activity WHERE EXTRACT(MONTH FROM activity_date) = 1;\n",
    "```"
   ]
  },
  {
   "cell_type": "markdown",
   "id": "d88405c1-0fb2-4da8-b883-c99ce56194ae",
   "metadata": {},
   "source": [
    "### Mistral-7B-Instruct-v0.3-4bit"
   ]
  },
  {
   "cell_type": "code",
   "execution_count": 52,
   "id": "8e8929ba-743c-4e21-b078-4e85bcfb8e6f",
   "metadata": {},
   "outputs": [
    {
     "name": "stdout",
     "output_type": "stream",
     "text": [
      "==========\n",
      "Prompt: <s>[INST] Count the number of unique users who engaged with virtual tours in 'January'?\n",
      "CREATE TABLE user_activity (user_id INT, activity_date DATE); \n",
      "INSERT INTO user_activity (user_id, activity_date) VALUES (1, '2023-01-01'), (2, '2023-01-05'), \n",
      "(3, '2023-01-07'), (4, '2023-01-10'), (5, '2023-01-12');[/INST]\n",
      "To count the number of unique users who engaged with virtual tours in 'January', you can use the SQL query below:\n",
      "\n",
      "```sql\n",
      "SELECT COUNT(DISTINCT user_id) as unique_users\n",
      "FROM user_activity\n",
      "WHERE activity_date LIKE '2023-01-%';\n",
      "```\n",
      "\n",
      "This query selects the count of distinct user_id from the user_activity table where the activity_date starts with '2023-01-'. This will give you the number of unique users who engaged with virtual tours in January.\n",
      "\n",
      "Please note that the year in the example is 2023, if you have a different year, you should replace it accordingly.\n",
      "\n",
      "If you want to get the users who engaged with virtual tours in a specific year, you can replace the '2023-01-%' with 'YYYY-01-%' and use the YEAR() function to get the current year.\n",
      "\n",
      "```sql\n",
      "SELECT COUNT(DISTINCT user_id) as unique_users\n",
      "FROM user_activity\n",
      "WHERE YEAR(activity_date) = YEAR(CURRENT_DATE()) AND activity_date LIKE 'YYYY-01-%';\n",
      "```\n",
      "\n",
      "This query will give you the number of unique users who engaged with virtual tours in the current year.\n",
      "==========\n",
      "Prompt: 135 tokens, 215.530 tokens-per-sec\n",
      "Generation: 296 tokens, 33.927 tokens-per-sec\n",
      "Peak memory: 7.776 GB\n"
     ]
    }
   ],
   "source": [
    "generate_response(mlx_model, prompt, max_tokens)"
   ]
  },
  {
   "cell_type": "markdown",
   "id": "9c626a63-1e18-4734-a731-6938b7a6d4be",
   "metadata": {},
   "source": [
    "### Fine-tuned Mistral-7B-Instruct-v0.3-4bit"
   ]
  },
  {
   "cell_type": "code",
   "execution_count": 53,
   "id": "3e0933bc-a465-4552-908e-bdcb0b049f32",
   "metadata": {},
   "outputs": [
    {
     "name": "stdout",
     "output_type": "stream",
     "text": [
      "==========\n",
      "Prompt: <s>[INST] Count the number of unique users who engaged with virtual tours in 'January'?\n",
      "CREATE TABLE user_activity (user_id INT, activity_date DATE); \n",
      "INSERT INTO user_activity (user_id, activity_date) VALUES (1, '2023-01-01'), (2, '2023-01-05'), \n",
      "(3, '2023-01-07'), (4, '2023-01-10'), (5, '2023-01-12');[/INST]\n",
      "\n",
      "SELECT COUNT(DISTINCT user_id) FROM user_activity WHERE activity_date LIKE '2023-01-%';\n",
      "This query counts the number of unique users who engaged with virtual tours in 'January' by filtering the user_activity table for rows where the activity_date is in January. The DISTINCT keyword is used to remove duplicates, and the LIKE operator is used to match any date in January.\n",
      "==========\n",
      "Prompt: 135 tokens, 216.642 tokens-per-sec\n",
      "Generation: 100 tokens, 33.565 tokens-per-sec\n",
      "Peak memory: 7.776 GB\n"
     ]
    }
   ],
   "source": [
    "generate_response(fused_model, prompt, max_tokens)"
   ]
  },
  {
   "cell_type": "markdown",
   "id": "8418dffa-81ea-4c19-818b-11093941da78",
   "metadata": {},
   "source": [
    "### Prompt 3"
   ]
  },
  {
   "cell_type": "code",
   "execution_count": 58,
   "id": "46fa2cd9-e0e8-448f-b792-c03fb761afa6",
   "metadata": {},
   "outputs": [],
   "source": [
    "prompt = \"\"\"How many hospitals are there in each state in the United States?\n",
    "CREATE TABLE Hospitals (HospitalID INT, HospitalName VARCHAR(255), State VARCHAR(255)); \n",
    "INSERT INTO Hospitals (HospitalID, HospitalName, State) VALUES (1, 'Alaska General Hospital', 'Alaska'), (2, 'Bama Healthcare', 'Alabama'), (3, 'California Care', 'California'), (4, 'Delaware Hospital', 'Delaware'), (5, 'Florida Medical Center', 'Florida');\"\"\""
   ]
  },
  {
   "cell_type": "markdown",
   "id": "2bc9b09d-8338-4ebd-a3f3-c89b217ac343",
   "metadata": {},
   "source": [
    "### Expected code\n",
    "The correct expected response for the above prompt is the following:\n",
    "```\n",
    "SELECT State, COUNT(*) FROM Hospitals GROUP BY State;\n",
    "```"
   ]
  },
  {
   "cell_type": "markdown",
   "id": "bf37281e-0857-42ed-b7ca-dc3ae0f1d4b5",
   "metadata": {},
   "source": [
    "### Mistral-7B-Instruct-v0.3-4bit"
   ]
  },
  {
   "cell_type": "code",
   "execution_count": 59,
   "id": "dfc56712-2ef0-4e43-aad4-02e9f9983b45",
   "metadata": {},
   "outputs": [
    {
     "name": "stdout",
     "output_type": "stream",
     "text": [
      "==========\n",
      "Prompt: <s>[INST] How many hospitals are there in each state in the United States?\n",
      "CREATE TABLE Hospitals (HospitalID INT, HospitalName VARCHAR(255), State VARCHAR(255)); \n",
      "INSERT INTO Hospitals (HospitalID, HospitalName, State) VALUES (1, 'Alaska General Hospital', 'Alaska'), (2, 'Bama Healthcare', 'Alabama'), (3, 'California Care', 'California'), (4, 'Delaware Hospital', 'Delaware'), (5, 'Florida Medical Center', 'Florida');[/INST]\n",
      "To provide the data for all 50 states, I'll provide you with the data for the first 10 states, and you can continue the pattern for the remaining states. Here's the SQL code for the first 10 states:\n",
      "\n",
      "```sql\n",
      "INSERT INTO Hospitals (HospitalID, HospitalName, State) VALUES\n",
      "(11, 'Georgia General Hospital', 'Georgia'),\n",
      "(12, 'Hawaii Medical Center', 'Hawaii'),\n",
      "(13, 'Idaho Healthcare', 'Idaho'),\n",
      "(14, 'Illinois Hospital', 'Illinois'),\n",
      "(15, 'Indiana Medical Center', 'Indiana'),\n",
      "(16, 'Iowa Health Services', 'Iowa'),\n",
      "(17, 'Kansas Medical Center', 'Kansas'),\n",
      "(18, 'Kentucky Hospital', 'Kentucky'),\n",
      "(19, 'Louisiana Medical Center', 'Louisiana'),\n",
      "(20, 'Maine Medical Center', 'Maine');\n",
      "```\n",
      "\n",
      "You can continue this pattern for the remaining states, and you'll have the data for all 50 states in the United States. Keep in mind that the number of hospitals per state can vary, so you may need to research the actual number of hospitals in each state to ensure the data is accurate.\n",
      "==========\n",
      "Prompt: 131 tokens, 200.668 tokens-per-sec\n",
      "Generation: 302 tokens, 33.756 tokens-per-sec\n",
      "Peak memory: 7.776 GB\n"
     ]
    }
   ],
   "source": [
    "generate_response(mlx_model, prompt, max_tokens)"
   ]
  },
  {
   "cell_type": "markdown",
   "id": "d082c457-7f52-49dc-a74d-78588b31b415",
   "metadata": {},
   "source": [
    "### Fine-tuned Mistral-7B-Instruct-v0.3-4bit"
   ]
  },
  {
   "cell_type": "code",
   "execution_count": 60,
   "id": "d1552e16-770e-40e4-88d2-ad22d933eccf",
   "metadata": {},
   "outputs": [
    {
     "name": "stdout",
     "output_type": "stream",
     "text": [
      "==========\n",
      "Prompt: <s>[INST] How many hospitals are there in each state in the United States?\n",
      "CREATE TABLE Hospitals (HospitalID INT, HospitalName VARCHAR(255), State VARCHAR(255)); \n",
      "INSERT INTO Hospitals (HospitalID, HospitalName, State) VALUES (1, 'Alaska General Hospital', 'Alaska'), (2, 'Bama Healthcare', 'Alabama'), (3, 'California Care', 'California'), (4, 'Delaware Hospital', 'Delaware'), (5, 'Florida Medical Center', 'Florida');[/INST]\n",
      "\n",
      "SELECT COUNT(*) FROM Hospitals WHERE State = 'Alaska';\n",
      "SELECT COUNT(*) FROM Hospitals WHERE State = 'Alabama';\n",
      "SELECT COUNT(*) FROM Hospitals WHERE State = 'California';\n",
      "SELECT COUNT(*) FROM Hospitals WHERE State = 'Delaware';\n",
      "SELECT COUNT(*) FROM Hospitals WHERE State = 'Florida';\n",
      "This query calculates the number of hospitals in each state by counting the number of rows in the Hospitals table where the State column matches the state name.\n",
      "==========\n",
      "Prompt: 131 tokens, 210.787 tokens-per-sec\n",
      "Generation: 120 tokens, 33.814 tokens-per-sec\n",
      "Peak memory: 7.776 GB\n"
     ]
    }
   ],
   "source": [
    "generate_response(fused_model, prompt, max_tokens)"
   ]
  },
  {
   "cell_type": "markdown",
   "id": "e7ba128f-f860-4a41-9da8-1842922a978d",
   "metadata": {},
   "source": [
    "### Prompt 4"
   ]
  },
  {
   "cell_type": "code",
   "execution_count": 73,
   "id": "0fe9b6ee-b1ee-4153-89fc-4e6951f02f23",
   "metadata": {},
   "outputs": [],
   "source": [
    "prompt = \"\"\"What is the average life expectancy in each country?\n",
    "CREATE TABLE countries (country_id INT, country_name VARCHAR(255)); INSERT INTO countries VALUES (1, 'CountryA'), (2, 'CountryB'); CREATE TABLE life_expectancy (country_id INT, life_expectancy DECIMAL(5,2), year INT); INSERT INTO life_expectancy VALUES (1, 75.5, 2020), (2, 80.3, 2020);\"\"\""
   ]
  },
  {
   "cell_type": "markdown",
   "id": "11369f23-6d8e-4723-b93e-767cc41d9c1a",
   "metadata": {},
   "source": [
    "### Expected code\n",
    "The correct expected response for the above prompt is the following:\n",
    "```\n",
    "SELECT countries.country_name, AVG(life_expectancy) AS avg_life_expectancy FROM countries INNER JOIN life_expectancy ON countries.country_id = life_expectancy.country_id GROUP BY countries.country_name;\n",
    "```"
   ]
  },
  {
   "cell_type": "markdown",
   "id": "8dc4eb49-1008-408a-aabd-b2990af47068",
   "metadata": {},
   "source": [
    "### Mistral-7B-Instruct-v0.3-4bit"
   ]
  },
  {
   "cell_type": "code",
   "execution_count": 74,
   "id": "1a069c39-9fc3-411d-8cae-7f54ceba89da",
   "metadata": {},
   "outputs": [
    {
     "name": "stdout",
     "output_type": "stream",
     "text": [
      "==========\n",
      "Prompt: <s>[INST] What is the average life expectancy in each country?\n",
      "CREATE TABLE countries (country_id INT, country_name VARCHAR(255)); INSERT INTO countries VALUES (1, 'CountryA'), (2, 'CountryB'); CREATE TABLE life_expectancy (country_id INT, life_expectancy DECIMAL(5,2), year INT); INSERT INTO life_expectancy VALUES (1, 75.5, 2020), (2, 80.3, 2020);[/INST]\n",
      "It seems like you're trying to create a simple SQL database structure to store data about the life expectancy of different countries. However, I can't provide the actual average life expectancy for each country as it changes over time and varies based on numerous factors. Here's how your SQL tables would look:\n",
      "\n",
      "```sql\n",
      "CREATE TABLE countries (\n",
      "    country_id INT PRIMARY KEY,\n",
      "    country_name VARCHAR(255)\n",
      ");\n",
      "\n",
      "CREATE TABLE life_expectancy (\n",
      "    country_id INT,\n",
      "    life_expectancy DECIMAL(5,2),\n",
      "    year INT,\n",
      "    FOREIGN KEY (country_id) REFERENCES countries(country_id)\n",
      ");\n",
      "\n",
      "INSERT INTO countries VALUES (1, 'CountryA');\n",
      "INSERT INTO countries VALUES (2, 'CountryB');\n",
      "\n",
      "INSERT INTO life_expectancy VALUES (1, 75.5, 2020);\n",
      "INSERT INTO life_expectancy VALUES (2, 80.3, 2020);\n",
      "```\n",
      "\n",
      "For the actual life expectancy data, you would need to replace the life_expectancy and year values with the appropriate data for each country. You can find this data from reliable sources like the World Health Organization (WHO) or the United Nations (UN).\n",
      "==========\n",
      "Prompt: 128 tokens, 219.039 tokens-per-sec\n",
      "Generation: 297 tokens, 33.916 tokens-per-sec\n",
      "Peak memory: 7.776 GB\n"
     ]
    }
   ],
   "source": [
    "generate_response(mlx_model, prompt, max_tokens)"
   ]
  },
  {
   "cell_type": "markdown",
   "id": "574ce005-22ec-449d-b7bd-0a0a00679dfa",
   "metadata": {},
   "source": [
    "### Fine-tuned Mistral-7B-Instruct-v0.3-4bit"
   ]
  },
  {
   "cell_type": "code",
   "execution_count": 75,
   "id": "efe1beb7-ab94-49ed-9248-64c9870830d5",
   "metadata": {},
   "outputs": [
    {
     "name": "stdout",
     "output_type": "stream",
     "text": [
      "==========\n",
      "Prompt: <s>[INST] What is the average life expectancy in each country?\n",
      "CREATE TABLE countries (country_id INT, country_name VARCHAR(255)); INSERT INTO countries VALUES (1, 'CountryA'), (2, 'CountryB'); CREATE TABLE life_expectancy (country_id INT, life_expectancy DECIMAL(5,2), year INT); INSERT INTO life_expectancy VALUES (1, 75.5, 2020), (2, 80.3, 2020);[/INST]\n",
      "\n",
      "SELECT c.country_name, le.life_expectancy FROM countries c JOIN life_expectancy le ON c.country_id = le.country_id WHERE le.year = 2020;\n",
      "This query joins the countries table with the life_expectancy table on the country_id column, and filters the results to only include rows where the year is 2020. It then selects the country_name and life_expectancy columns from the resulting table.\n",
      "==========\n",
      "Prompt: 128 tokens, 257.002 tokens-per-sec\n",
      "Generation: 107 tokens, 34.094 tokens-per-sec\n",
      "Peak memory: 7.776 GB\n"
     ]
    }
   ],
   "source": [
    "generate_response(fused_model, prompt, max_tokens)"
   ]
  },
  {
   "cell_type": "code",
   "execution_count": null,
   "id": "e535521e-a039-4c76-912e-0cade25f8488",
   "metadata": {},
   "outputs": [],
   "source": []
  }
 ],
 "metadata": {
  "kernelspec": {
   "display_name": "Python 3 (ipykernel)",
   "language": "python",
   "name": "python3"
  },
  "language_info": {
   "codemirror_mode": {
    "name": "ipython",
    "version": 3
   },
   "file_extension": ".py",
   "mimetype": "text/x-python",
   "name": "python",
   "nbconvert_exporter": "python",
   "pygments_lexer": "ipython3",
   "version": "3.11.10"
  }
 },
 "nbformat": 4,
 "nbformat_minor": 5
}
