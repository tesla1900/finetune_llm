{
 "cells": [
  {
   "cell_type": "markdown",
   "id": "9c60ec4b-f7f2-4f22-b6ba-8cfd739b6b50",
   "metadata": {},
   "source": [
    "# Quantized model"
   ]
  },
  {
   "cell_type": "code",
   "execution_count": 16,
   "id": "90f38bdc-58e5-4b8d-ae35-9c05ab8a6927",
   "metadata": {},
   "outputs": [],
   "source": [
    "from mlx_lm import load, generate \n",
    "import os"
   ]
  },
  {
   "cell_type": "code",
   "execution_count": 8,
   "id": "e24dbc14-4013-42c0-82de-7283b6657cfb",
   "metadata": {},
   "outputs": [
    {
     "name": "stdout",
     "output_type": "stream",
     "text": [
      "==========\n",
      "Prompt: <s>[INST] What is SQL[/INST]\n",
      "SQL (Structured Query Language) is a programming language used to manage and manipulate relational databases. It was first introduced by IBM in the 1970s and has since become a standard for database management systems. SQL is used to create, modify, and query databases, as well as to define and manipulate the logical structure of a database.\n",
      "\n",
      "SQL is a declarative language, meaning that it is used to specify what data is needed, rather than how to retrieve it. It is composed of several types of statements, including:\n",
      "\n",
      "1. Data Definition Language (DDL) statements: These are used to create, alter, and drop database objects such as tables, views, and indexes.\n",
      "2. Data Manipulation Language (DML) statements: These are used to insert, update, delete, and select data from tables.\n",
      "3. Data Control Language (DCL) statements: These are used to control access to the database, such as granting or revoking privileges.\n",
      "\n",
      "SQL is an essential tool for developers, database administrators, and data analysts who work with databases on a daily basis. It is supported by most relational database management systems, including MySQL, Oracle, PostgreSQL, and Microsoft SQL Server.\n",
      "==========\n",
      "Prompt: 7 tokens, 39.193 tokens-per-sec\n",
      "Generation: 266 tokens, 35.061 tokens-per-sec\n",
      "Peak memory: 7.595 GB\n"
     ]
    }
   ],
   "source": [
    "model, tokenizer = load(\"/Users/tesla/mlx_model\")\n",
    "\n",
    "prompt = \"What is SQL\"\n",
    "\n",
    "messages = [{\"role\": \"user\", \"content\": prompt}]\n",
    "prompt = tokenizer.apply_chat_template(\n",
    "    messages, tokenize=False, add_generation_prompt=True\n",
    ")\n",
    "\n",
    "response = generate(model, tokenizer, prompt=prompt, max_tokens=400, verbose=True)"
   ]
  },
  {
   "cell_type": "code",
   "execution_count": 10,
   "id": "8c80d767-da1a-4271-8e93-3211e0a8f202",
   "metadata": {},
   "outputs": [
    {
     "name": "stdout",
     "output_type": "stream",
     "text": [
      "==========\n",
      "Prompt: <s>[INST] why does this give an error: \n",
      "select client_id \n",
      "from (select client_id, sum(total_sales) as total \n",
      "from works_with \n",
      "group by client_id)  \n",
      "where total > 100000;[/INST]\n",
      "The error is likely due to the fact that you are trying to perform a `WHERE` clause on a subquery that does not return a single column. In your query, the subquery returns a table with two columns: `client_id` and `total`. However, the `WHERE` clause expects a single column to compare against the value `100000`.\n",
      "\n",
      "To fix this error, you can either rewrite the query to use a `HAVING` clause instead of a `WHERE` clause, or you can use an aggregate function like `MAX()` to select the maximum total from the subquery and compare it to `100000`. Here's an example of how you can do that:\n",
      "\n",
      "```sql\n",
      "SELECT client_id\n",
      "FROM (\n",
      "    SELECT client_id, SUM(total_sales) as total\n",
      "    FROM works_with\n",
      "    GROUP BY client_id\n",
      ") subquery\n",
      "WHERE (\n",
      "    SELECT MAX(total)\n",
      "    FROM (\n",
      "        SELECT client_id, SUM(total_sales) as total\n",
      "        FROM works_with\n",
      "        GROUP BY client_id\n",
      "    ) subquery\n",
      ") > 100000;\n",
      "```\n",
      "\n",
      "In this query, the outermost subquery calculates the total sales for each client, and the innermost subquery finds the maximum total sales across all clients. The outer query then selects the client_id of any client whose total sales is greater than the maximum total sales across all clients.\n",
      "==========\n",
      "Prompt: 62 tokens, 65.857 tokens-per-sec\n",
      "Generation: 339 tokens, 33.973 tokens-per-sec\n",
      "Peak memory: 7.595 GB\n"
     ]
    }
   ],
   "source": [
    "prompt = \"\"\"why does this give an error: \n",
    "select client_id \n",
    "from (select client_id, sum(total_sales) as total \n",
    "from works_with \n",
    "group by client_id)  \n",
    "where total > 100000;\"\"\"\n",
    "\n",
    "messages = [{\"role\": \"user\", \"content\": prompt}]\n",
    "prompt = tokenizer.apply_chat_template(\n",
    "    messages, tokenize=False, add_generation_prompt=True\n",
    ")\n",
    "\n",
    "response = generate(model, tokenizer, prompt=prompt, max_tokens=500, verbose=True)"
   ]
  },
  {
   "cell_type": "markdown",
   "id": "102b214b-8f69-425f-ad8e-cf5410754865",
   "metadata": {},
   "source": [
    "## Finetuned with LoRa"
   ]
  },
  {
   "cell_type": "code",
   "execution_count": 1,
   "id": "3aafa14f-a137-484a-aee8-88bc7ee7c93f",
   "metadata": {},
   "outputs": [],
   "source": [
    "import subprocess"
   ]
  },
  {
   "cell_type": "code",
   "execution_count": 8,
   "id": "17cd5468-4d4a-4bc6-91c9-4aeef2e0a25b",
   "metadata": {},
   "outputs": [],
   "source": [
    "def run_command_with_live_output(command: list[str]) -> None:\n",
    "    \"\"\"\n",
    "    Courtesy of ChatGPT:\n",
    "    Runs a command and prints its output line by line as it executes.\n",
    "\n",
    "    Args:\n",
    "        command (List[str]): The command and its arguments to be executed.\n",
    "\n",
    "    Returns:\n",
    "        None\n",
    "    \"\"\"\n",
    "    process = subprocess.Popen(command, stdout=subprocess.PIPE, stderr=subprocess.PIPE, text=True)\n",
    "\n",
    "    # Print the output line by line\n",
    "    while True:\n",
    "        output = process.stdout.readline()\n",
    "        if output == '' and process.poll() is not None:\n",
    "            break\n",
    "        if output:\n",
    "            print(output.strip())\n",
    "        \n",
    "    # Print the error output, if any\n",
    "    err_output = process.stderr.read()\n",
    "    if err_output:\n",
    "        print(err_output)\n"
   ]
  },
  {
   "cell_type": "code",
   "execution_count": 29,
   "id": "51e49e6a-d264-4ef5-a084-7a882a6d8fdc",
   "metadata": {},
   "outputs": [],
   "source": [
    "model_path = \"mlx_model\"\n",
    "fused_model = \"lora_fused_model\"\n",
    "adapter_path = \"adapters.npz\" \n",
    "max_tokens = 500\n",
    "max_tokens_str = str(max_tokens)\n",
    "\n",
    "prompt = \"\"\"Retrieve the names and species of all animals that weigh more than 500 kg\n",
    "CREATE TABLE animals (id INT, name VARCHAR(20), species VARCHAR(20), weight DECIMAL(5, 2)); INSERT INTO animals (id, name, species, weight) VALUES (1, 'Elephant', 'African', 6000), (2, 'Lion', 'African', 400), (3, 'Hippo', 'African', 3000), (4, 'Tiger', 'Asian', 300), (5, 'Crane', 'African', 100), (6, 'Rhinoceros', 'African', 2000), (7, 'Zebra', 'African', 450), (8, 'Giraffe', 'African', 1200), (9, 'Bear', 'Eurasian', 600), (10, 'Crocodile', 'Nile', 700);\"\"\""
   ]
  },
  {
   "cell_type": "code",
   "execution_count": null,
   "id": "6a126d6f-3751-4f21-9bb7-7bc728fb3b40",
   "metadata": {},
   "outputs": [],
   "source": []
  },
  {
   "cell_type": "code",
   "execution_count": null,
   "id": "3f6bb3e9-c0f7-48d5-8bff-93d593489d30",
   "metadata": {},
   "outputs": [],
   "source": []
  },
  {
   "cell_type": "code",
   "execution_count": null,
   "id": "f7998676-25d8-4fbf-8c7f-ce007143ed11",
   "metadata": {},
   "outputs": [],
   "source": []
  },
  {
   "cell_type": "markdown",
   "id": "c2621234-0f14-413b-a06f-584462901b66",
   "metadata": {},
   "source": [
    "```\n",
    "SELECT name, species FROM animals WHERE weight > 500;\n",
    "```"
   ]
  },
  {
   "cell_type": "code",
   "execution_count": 31,
   "id": "ca6baab7-c66a-4f2a-bdd1-de91d6640634",
   "metadata": {},
   "outputs": [
    {
     "name": "stderr",
     "output_type": "stream",
     "text": [
      "huggingface/tokenizers: The current process just got forked, after parallelism has already been used. Disabling parallelism to avoid deadlocks...\n",
      "To disable this warning, you can either:\n",
      "\t- Avoid using `tokenizers` before the fork if possible\n",
      "\t- Explicitly set the environment variable TOKENIZERS_PARALLELISM=(true | false)\n"
     ]
    },
    {
     "name": "stdout",
     "output_type": "stream",
     "text": [
      "Loading pretrained model\n",
      "Total parameters 1133.580M\n",
      "Trainable parameters 0.852M\n",
      "Loading datasets\n",
      "Generating\n",
      "<s>[INST] Retrieve the names and species of all animals that weigh more than 500 kg\n",
      "CREATE TABLE animals (id INT, name VARCHAR(20), species VARCHAR(20), weight DECIMAL(5, 2)); INSERT INTO animals (id, name, species, weight) VALUES (1, 'Elephant', 'African', 6000), (2, 'Lion', 'African', 400), (3, 'Hippo', 'African', 3000), (4, 'Tiger', 'Asian', 300), (5, 'Crane', 'African', 100), (6, 'Rhinoceros', 'African', 2000), (7, 'Zebra', 'African', 450), (8, 'Giraffe', 'African', 1200), (9, 'Bear', 'Eurasian', 600), (10, 'Crocodile', 'Nile', 700);[/INST]Select names and species from animals where weight > 500;\n",
      "This query selects the names and species of all animals that weigh more than 500 kg in the animals table.\n",
      "==========\n"
     ]
    }
   ],
   "source": [
    "# define command\n",
    "command = ['python', 'scripts/lora.py', '--model', model_path, '--adapter-file', adapter_path, '--max-tokens', max_tokens_str, '--prompt', prompt]\n",
    "\n",
    "# run command and print results continuously\n",
    "run_command_with_live_output(command)"
   ]
  },
  {
   "cell_type": "code",
   "execution_count": 30,
   "id": "c9dc3fd1-7bab-4089-b56c-f117106d524c",
   "metadata": {},
   "outputs": [
    {
     "name": "stdout",
     "output_type": "stream",
     "text": [
      "==========\n",
      "Prompt: <s>[INST] Retrieve the names and species of all animals that weigh more than 500 kg\n",
      "CREATE TABLE animals (id INT, name VARCHAR(20), species VARCHAR(20), weight DECIMAL(5, 2)); INSERT INTO animals (id, name, species, weight) VALUES (1, 'Elephant', 'African', 6000), (2, 'Lion', 'African', 400), (3, 'Hippo', 'African', 3000), (4, 'Tiger', 'Asian', 300), (5, 'Crane', 'African', 100), (6, 'Rhinoceros', 'African', 2000), (7, 'Zebra', 'African', 450), (8, 'Giraffe', 'African', 1200), (9, 'Bear', 'Eurasian', 600), (10, 'Crocodile', 'Nile', 700);[/INST]\n",
      "To find the names and species of animals that weigh more than 500 kg, you can use SQL's WHERE clause to filter the results. Here's the SQL query:\n",
      "\n",
      "```sql\n",
      "SELECT name, species FROM animals WHERE weight > 500;\n",
      "```\n",
      "\n",
      "Executing this query on the provided table will return the following results:\n",
      "\n",
      "```\n",
      "name     | species\n",
      "---------|-------\n",
      "Elephant | African\n",
      "Hippo    | African\n",
      "Rhinoceros| African\n",
      "Crane    | African\n",
      "Bear     | Eurasian\n",
      "Crocodile| Nile\n",
      "```\n",
      "\n",
      "These are the animals that weigh more than 500 kg according to the provided table.\n",
      "==========\n",
      "Prompt: 253 tokens, 255.093 tokens-per-sec\n",
      "Generation: 157 tokens, 31.597 tokens-per-sec\n",
      "Peak memory: 7.595 GB\n"
     ]
    }
   ],
   "source": [
    "model, tokenizer = load(\"mlx_model\")\n",
    "messages = [{\"role\": \"user\", \"content\": prompt}]\n",
    "prompt = tokenizer.apply_chat_template(\n",
    "    messages, tokenize=False, add_generation_prompt=True\n",
    ")\n",
    "\n",
    "response = generate(model, tokenizer, prompt=prompt, max_tokens=500, verbose=True)"
   ]
  },
  {
   "cell_type": "code",
   "execution_count": 32,
   "id": "ad90284a-cdbd-4624-b0c0-77178879ac6a",
   "metadata": {},
   "outputs": [
    {
     "name": "stdout",
     "output_type": "stream",
     "text": [
      "==========\n",
      "Prompt: <s>[INST] <s>[INST] Retrieve the names and species of all animals that weigh more than 500 kg\n",
      "CREATE TABLE animals (id INT, name VARCHAR(20), species VARCHAR(20), weight DECIMAL(5, 2)); INSERT INTO animals (id, name, species, weight) VALUES (1, 'Elephant', 'African', 6000), (2, 'Lion', 'African', 400), (3, 'Hippo', 'African', 3000), (4, 'Tiger', 'Asian', 300), (5, 'Crane', 'African', 100), (6, 'Rhinoceros', 'African', 2000), (7, 'Zebra', 'African', 450), (8, 'Giraffe', 'African', 1200), (9, 'Bear', 'Eurasian', 600), (10, 'Crocodile', 'Nile', 700);[/INST][/INST]\n",
      "\n",
      "SELECT name, species FROM animals WHERE weight > 500;\n",
      "This query retrieves the names and species of all animals that weigh more than 500 kg.\n",
      "==========\n",
      "Prompt: 257 tokens, 227.935 tokens-per-sec\n",
      "Generation: 38 tokens, 32.559 tokens-per-sec\n",
      "Peak memory: 7.595 GB\n"
     ]
    }
   ],
   "source": [
    "model, tokenizer = load(\"lora_fused_model\")\n",
    "messages = [{\"role\": \"user\", \"content\": prompt}]\n",
    "prompt = tokenizer.apply_chat_template(\n",
    "    messages, tokenize=False, add_generation_prompt=True\n",
    ")\n",
    "\n",
    "response = generate(model, tokenizer, prompt=prompt, max_tokens=500, verbose=True)"
   ]
  },
  {
   "cell_type": "code",
   "execution_count": 33,
   "id": "c62e6471-1d14-4034-9dda-3bdee3102dc0",
   "metadata": {},
   "outputs": [],
   "source": [
    "prompt = \"\"\"Count the number of unique users who engaged with virtual tours in 'January'?\n",
    "CREATE TABLE user_activity (user_id INT, activity_date DATE); INSERT INTO user_activity (user_id, activity_date) VALUES (1, '2023-01-01'), (2, '2023-01-05'), (3, '2023-01-07'), (4, '2023-01-10'), (5, '2023-01-12');\"\"\""
   ]
  },
  {
   "cell_type": "code",
   "execution_count": null,
   "id": "0e85967a-775d-4a84-a972-b39a39268d6a",
   "metadata": {},
   "outputs": [],
   "source": []
  },
  {
   "cell_type": "code",
   "execution_count": null,
   "id": "349310c5-327e-4d48-be44-41fb788fc796",
   "metadata": {},
   "outputs": [],
   "source": []
  },
  {
   "cell_type": "markdown",
   "id": "59d1690e-c810-4e2f-af97-361796fc7e91",
   "metadata": {},
   "source": [
    "```\n",
    "SELECT COUNT(DISTINCT user_id) FROM user_activity WHERE EXTRACT(MONTH FROM activity_date) = 1;\n",
    "```"
   ]
  },
  {
   "cell_type": "code",
   "execution_count": 34,
   "id": "8e8929ba-743c-4e21-b078-4e85bcfb8e6f",
   "metadata": {},
   "outputs": [
    {
     "name": "stdout",
     "output_type": "stream",
     "text": [
      "==========\n",
      "Prompt: <s>[INST] Count the number of unique users who engaged with virtual tours in 'January'?\n",
      "CREATE TABLE user_activity (user_id INT, activity_date DATE); INSERT INTO user_activity (user_id, activity_date) VALUES (1, '2023-01-01'), (2, '2023-01-05'), (3, '2023-01-07'), (4, '2023-01-10'), (5, '2023-01-12');[/INST]\n",
      "To count the number of unique users who engaged with virtual tours in 'January', you would first need to filter the data for the 'activity_date' in January, and then count the distinct user_id. Here's how you can do it using SQL:\n",
      "\n",
      "```sql\n",
      "SELECT COUNT(DISTINCT user_id) as unique_users\n",
      "FROM user_activity\n",
      "WHERE activity_date LIKE '2023-01-%';\n",
      "```\n",
      "\n",
      "This query will return the count of distinct user_id where the activity_date starts with '2023-01-'. This means it will return the count of unique users who engaged with virtual tours in January.\n",
      "\n",
      "Please note that the year '2023' in the example is just a placeholder. You should replace it with the actual year for which you have data.\n",
      "\n",
      "Also, this assumes that the 'activity_date' in your table is in the format 'YYYY-MM-DD'. If it's in a different format, you'll need to adjust the format in the WHERE clause.\n",
      "\n",
      "Lastly, this example uses SQL syntax for a generic SQL database. If you're using a specific database like MySQL, PostgreSQL, SQLite, etc., you might need to adjust the syntax slightly.\n",
      "==========\n",
      "Prompt: 133 tokens, 189.890 tokens-per-sec\n",
      "Generation: 284 tokens, 31.964 tokens-per-sec\n",
      "Peak memory: 7.595 GB\n"
     ]
    }
   ],
   "source": [
    "model, tokenizer = load(\"mlx_model\")\n",
    "messages = [{\"role\": \"user\", \"content\": prompt}]\n",
    "prompt = tokenizer.apply_chat_template(\n",
    "    messages, tokenize=False, add_generation_prompt=True\n",
    ")\n",
    "\n",
    "response = generate(model, tokenizer, prompt=prompt, max_tokens=500, verbose=True)"
   ]
  },
  {
   "cell_type": "code",
   "execution_count": 35,
   "id": "3e0933bc-a465-4552-908e-bdcb0b049f32",
   "metadata": {},
   "outputs": [
    {
     "name": "stdout",
     "output_type": "stream",
     "text": [
      "==========\n",
      "Prompt: <s>[INST] <s>[INST] Count the number of unique users who engaged with virtual tours in 'January'?\n",
      "CREATE TABLE user_activity (user_id INT, activity_date DATE); INSERT INTO user_activity (user_id, activity_date) VALUES (1, '2023-01-01'), (2, '2023-01-05'), (3, '2023-01-07'), (4, '2023-01-10'), (5, '2023-01-12');[/INST][/INST]\n",
      "\n",
      "SELECT COUNT(DISTINCT user_id) FROM user_activity WHERE activity_date >= '2023-01-01' AND activity_date <= '2023-01-31';\n",
      "This query counts the number of unique users who engaged with virtual tours in 'January' by filtering the user_activity table for rows where the activity_date is between '2023-01-01' and '2023-01-31'. It then uses the COUNT(DISTINCT user_id) function to count the number of unique users.\n",
      "==========\n",
      "Prompt: 137 tokens, 194.444 tokens-per-sec\n",
      "Generation: 137 tokens, 32.286 tokens-per-sec\n",
      "Peak memory: 7.595 GB\n"
     ]
    }
   ],
   "source": [
    "model, tokenizer = load(\"lora_fused_model\")\n",
    "messages = [{\"role\": \"user\", \"content\": prompt}]\n",
    "prompt = tokenizer.apply_chat_template(\n",
    "    messages, tokenize=False, add_generation_prompt=True\n",
    ")\n",
    "\n",
    "response = generate(model, tokenizer, prompt=prompt, max_tokens=500, verbose=True)"
   ]
  },
  {
   "cell_type": "code",
   "execution_count": 36,
   "id": "46fa2cd9-e0e8-448f-b792-c03fb761afa6",
   "metadata": {},
   "outputs": [],
   "source": [
    "prompt = \"\"\"How many hospitals are there in each state in the United States?\n",
    "CREATE TABLE Hospitals (HospitalID INT, HospitalName VARCHAR(255), State VARCHAR(255)); INSERT INTO Hospitals (HospitalID, HospitalName, State) VALUES (1, 'Alaska General Hospital', 'Alaska'), (2, 'Bama Healthcare', 'Alabama'), (3, 'California Care', 'California'), (4, 'Delaware Hospital', 'Delaware'), (5, 'Florida Medical Center', 'Florida');\"\"\""
   ]
  },
  {
   "cell_type": "markdown",
   "id": "2bc9b09d-8338-4ebd-a3f3-c89b217ac343",
   "metadata": {},
   "source": [
    "```\n",
    "SELECT State, COUNT(*) FROM Hospitals GROUP BY State;\n",
    "```"
   ]
  },
  {
   "cell_type": "code",
   "execution_count": 37,
   "id": "dfc56712-2ef0-4e43-aad4-02e9f9983b45",
   "metadata": {},
   "outputs": [
    {
     "name": "stdout",
     "output_type": "stream",
     "text": [
      "==========\n",
      "Prompt: <s>[INST] How many hospitals are there in each state in the United States?\n",
      "CREATE TABLE Hospitals (HospitalID INT, HospitalName VARCHAR(255), State VARCHAR(255)); INSERT INTO Hospitals (HospitalID, HospitalName, State) VALUES (1, 'Alaska General Hospital', 'Alaska'), (2, 'Bama Healthcare', 'Alabama'), (3, 'California Care', 'California'), (4, 'Delaware Hospital', 'Delaware'), (5, 'Florida Medical Center', 'Florida');[/INST]\n",
      "To provide a more comprehensive list, I've used data from the American Hospital Association (AHA) for the number of hospitals in each state as of 2020. Here's the SQL code to create the table and insert the data:\n",
      "\n",
      "```sql\n",
      "CREATE TABLE Hospitals (\n",
      "  HospitalID INT,\n",
      "  HospitalName VARCHAR(255),\n",
      "  State VARCHAR(255)\n",
      ");\n",
      "\n",
      "INSERT INTO Hospitals (HospitalID, HospitalName, State)\n",
      "VALUES\n",
      "  (1, 'Alaska General Hospital', 'Alaska'),\n",
      "  (2, 'Bama Healthcare', 'Alabama'),\n",
      "  (3, 'California Care', 'California'),\n",
      "  (4, 'Delaware Hospital', 'Delaware'),\n",
      "  (5, 'Florida Medical Center', 'Florida'),\n",
      "  (6, 'Georgia Health Services', 'Georgia'),\n",
      "  (7, 'Hawaii Medical Center', 'Hawaii'),\n",
      "  (8, 'Idaho Healthcare', 'Idaho'),\n",
      "  (9, 'Illinois Hospital', 'Illinois'),\n",
      "  (10, 'Indiana Medical Center', 'Indiana'),\n",
      "  (11, 'Iowa Health Services', 'Iowa'),\n",
      "  (12, 'Kansas Care', 'Kansas'),\n",
      "  (13, 'Kentucky Hospital', 'Kentucky'),\n",
      "  (14, 'Louisiana Medical Center', 'Louisiana'),\n",
      "  (15, 'Maine Medical Center', 'Maine'),\n",
      "  (16, 'Maryland Hospital', 'Maryland'),\n",
      "  (17, 'Massachusetts General Hospital', 'Massachusetts'),\n",
      "  (18, 'Michigan Health Services', 'Michigan'),\n",
      "  (19, 'Minnesota Medical Center', 'Minnesota'),\n",
      "  (20, 'Mississippi Hospital', 'Mississippi'),\n",
      "  (21, 'Missouri Care', 'Missouri'),\n",
      "  (22, 'Montana Health Services', 'Montana'),\n",
      "  (23, 'Nebraska Medical Center', 'Nebraska'),\n",
      "  (24, 'Nevada Health\n",
      "==========\n",
      "Prompt: 131 tokens, 204.701 tokens-per-sec\n",
      "Generation: 500 tokens, 33.225 tokens-per-sec\n",
      "Peak memory: 7.595 GB\n"
     ]
    }
   ],
   "source": [
    "model, tokenizer = load(\"mlx_model\")\n",
    "messages = [{\"role\": \"user\", \"content\": prompt}]\n",
    "prompt = tokenizer.apply_chat_template(\n",
    "    messages, tokenize=False, add_generation_prompt=True\n",
    ")\n",
    "\n",
    "response = generate(model, tokenizer, prompt=prompt, max_tokens=500, verbose=True)"
   ]
  },
  {
   "cell_type": "code",
   "execution_count": 38,
   "id": "d1552e16-770e-40e4-88d2-ad22d933eccf",
   "metadata": {},
   "outputs": [
    {
     "name": "stdout",
     "output_type": "stream",
     "text": [
      "==========\n",
      "Prompt: <s>[INST] <s>[INST] How many hospitals are there in each state in the United States?\n",
      "CREATE TABLE Hospitals (HospitalID INT, HospitalName VARCHAR(255), State VARCHAR(255)); INSERT INTO Hospitals (HospitalID, HospitalName, State) VALUES (1, 'Alaska General Hospital', 'Alaska'), (2, 'Bama Healthcare', 'Alabama'), (3, 'California Care', 'California'), (4, 'Delaware Hospital', 'Delaware'), (5, 'Florida Medical Center', 'Florida');[/INST][/INST]\n",
      "\n",
      "SELECT COUNT(*) FROM Hospitals WHERE State = 'Alaska';\n",
      "SELECT COUNT(*) FROM Hospitals WHERE State = 'Alabama';\n",
      "SELECT COUNT(*) FROM Hospitals WHERE State = 'California';\n",
      "SELECT COUNT(*) FROM Hospitals WHERE State = 'Delaware';\n",
      "SELECT COUNT(*) FROM Hospitals WHERE State = 'Florida';\n",
      "This query calculates the number of hospitals in each state by counting the number of rows in the Hospitals table where the State column matches the specified state.\n",
      "==========\n",
      "Prompt: 135 tokens, 209.383 tokens-per-sec\n",
      "Generation: 120 tokens, 33.794 tokens-per-sec\n",
      "Peak memory: 7.595 GB\n"
     ]
    }
   ],
   "source": [
    "model, tokenizer = load(\"lora_fused_model\")\n",
    "messages = [{\"role\": \"user\", \"content\": prompt}]\n",
    "prompt = tokenizer.apply_chat_template(\n",
    "    messages, tokenize=False, add_generation_prompt=True\n",
    ")\n",
    "\n",
    "response = generate(model, tokenizer, prompt=prompt, max_tokens=500, verbose=True)"
   ]
  },
  {
   "cell_type": "code",
   "execution_count": null,
   "id": "0fe9b6ee-b1ee-4153-89fc-4e6951f02f23",
   "metadata": {},
   "outputs": [],
   "source": []
  }
 ],
 "metadata": {
  "kernelspec": {
   "display_name": "Python 3 (ipykernel)",
   "language": "python",
   "name": "python3"
  },
  "language_info": {
   "codemirror_mode": {
    "name": "ipython",
    "version": 3
   },
   "file_extension": ".py",
   "mimetype": "text/x-python",
   "name": "python",
   "nbconvert_exporter": "python",
   "pygments_lexer": "ipython3",
   "version": "3.11.10"
  }
 },
 "nbformat": 4,
 "nbformat_minor": 5
}
